{
 "cells": [
  {
   "cell_type": "code",
   "execution_count": 2,
   "id": "b412d92c",
   "metadata": {},
   "outputs": [
    {
     "name": "stdout",
     "output_type": "stream",
     "text": [
      "Name = Eisha Fatima\n",
      "Address = House no 12, Street 6, Chaklala Scheme 3\n",
      "Phone Number = 0345-3456875\n",
      "Email = eisha@gmail.com\n",
      "Age = 21\n",
      "CNIC = 37405-1243567-0\n"
     ]
    }
   ],
   "source": [
    "# TASK 1\n",
    "\n",
    "print('Name = Eisha Fatima')\n",
    "print('Address = House no 12, Street 6, Chaklala Scheme 3')\n",
    "print('Phone Number = 0345-3456875')\n",
    "print('Email = eisha@gmail.com')\n",
    "print('Age = 21')\n",
    "print('CNIC = 37405-1243567-0')"
   ]
  },
  {
   "cell_type": "code",
   "execution_count": 6,
   "id": "effb9532",
   "metadata": {},
   "outputs": [
    {
     "name": "stdout",
     "output_type": "stream",
     "text": [
      "Enter your Sap Id: 41769\n",
      "Enter your Name: eisha\n",
      "hey eisha your sap is 41769\n"
     ]
    }
   ],
   "source": [
    "# TASK 2\n",
    "\n",
    "sapId = input('Enter your Sap Id: ')\n",
    "name = input('Enter your Name: ')\n",
    "print('hey {0} your sap is {1}'.format(name, sapId))"
   ]
  },
  {
   "cell_type": "code",
   "execution_count": 10,
   "id": "094e2acd",
   "metadata": {},
   "outputs": [
    {
     "name": "stdout",
     "output_type": "stream",
     "text": [
      "Before Swapping!\n",
      "X is 1\n",
      "y is 2\n",
      "After Swapping!\n",
      "X is 2\n",
      "y is 1\n"
     ]
    }
   ],
   "source": [
    "# TASK 3\n",
    "\n",
    "\n",
    "x= 1\n",
    "y = 2\n",
    "print('Before Swapping!')\n",
    "print('X is', x)\n",
    "print('y is', y)\n",
    "temp = x\n",
    "x = y\n",
    "y = temp\n",
    "print('After Swapping!')\n",
    "print('X is', x)\n",
    "print('y is', y)"
   ]
  },
  {
   "cell_type": "code",
   "execution_count": 17,
   "id": "a1db107a",
   "metadata": {},
   "outputs": [
    {
     "name": "stdout",
     "output_type": "stream",
     "text": [
      "r\n",
      "m\n",
      "g\n",
      "e\n"
     ]
    }
   ],
   "source": [
    "#  TASK 4\n",
    "\n",
    "\n",
    "message = \" programming language\"\n",
    "print(message[2])\n",
    "print(message[7])\n",
    "print(message[11])\n",
    "print(message[20])"
   ]
  },
  {
   "cell_type": "code",
   "execution_count": 20,
   "id": "e8915b42",
   "metadata": {},
   "outputs": [
    {
     "name": "stdout",
     "output_type": "stream",
     "text": [
      "True\n",
      "True\n",
      "True\n",
      "False\n"
     ]
    }
   ],
   "source": [
    "#  TASK 5\n",
    "\n",
    "a = 0\n",
    "b = 0\n",
    "print(a == b)  \n",
    "print(a <= b)\n",
    "print(a >= b)\n",
    "print(a != b)"
   ]
  },
  {
   "cell_type": "code",
   "execution_count": null,
   "id": "b2693055",
   "metadata": {},
   "outputs": [],
   "source": []
  }
 ],
 "metadata": {
  "kernelspec": {
   "display_name": "Python 3 (ipykernel)",
   "language": "python",
   "name": "python3"
  },
  "language_info": {
   "codemirror_mode": {
    "name": "ipython",
    "version": 3
   },
   "file_extension": ".py",
   "mimetype": "text/x-python",
   "name": "python",
   "nbconvert_exporter": "python",
   "pygments_lexer": "ipython3",
   "version": "3.11.5"
  }
 },
 "nbformat": 4,
 "nbformat_minor": 5
}
