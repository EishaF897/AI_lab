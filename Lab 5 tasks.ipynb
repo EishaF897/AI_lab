{
 "cells": [
  {
   "cell_type": "code",
   "execution_count": 12,
   "id": "e2175d1e",
   "metadata": {},
   "outputs": [
    {
     "name": "stdout",
     "output_type": "stream",
     "text": [
      "[[1. 3. 5.]\n",
      " [2. 4. 6.]]\n",
      "[[ True  True  True]\n",
      " [ True  True  True]]\n"
     ]
    }
   ],
   "source": [
    "# TASK 1\n",
    "\n",
    "import numpy as np\n",
    "arr1=np.array([[1.0,3.0,5.0],[2.0,4.0,6.0]])\n",
    "print(arr1)\n",
    "print(arr1.astype(bool))"
   ]
  },
  {
   "cell_type": "code",
   "execution_count": 14,
   "id": "e70a010a",
   "metadata": {},
   "outputs": [
    {
     "name": "stdout",
     "output_type": "stream",
     "text": [
      "[ 1 55  3  5  7  9]\n"
     ]
    }
   ],
   "source": [
    "# TASK 2\n",
    "\n",
    "import numpy as np\n",
    "arr=np.array([1,3,5,7,9])\n",
    "b=np.insert(arr, 1, 55)   # posistion 2 means that at second place in array. As array index starts with 0 so At 1 index\n",
    "print(b)"
   ]
  },
  {
   "cell_type": "code",
   "execution_count": 17,
   "id": "b2349bbb",
   "metadata": {},
   "outputs": [
    {
     "name": "stdout",
     "output_type": "stream",
     "text": [
      "[  0   2   4   6   8  10  12  14  16  18  20  22  24  26  28  30  32  34\n",
      "  36  38  40  42  44  46  48  51  53  55  57  59  61  63  65  67  69  71\n",
      "  73  75  77  79  81  83  85  87  89  91  93  95  97 100]\n"
     ]
    }
   ],
   "source": [
    "# TASK 3\n",
    "\n",
    "import numpy as np\n",
    "arr=np.linspace(0, 100, dtype=int)\n",
    "print(arr)"
   ]
  },
  {
   "cell_type": "code",
   "execution_count": 27,
   "id": "43e1a9ce",
   "metadata": {},
   "outputs": [
    {
     "name": "stdout",
     "output_type": "stream",
     "text": [
      "[[61 24]]\n"
     ]
    }
   ],
   "source": [
    "# TASK 4\n",
    "\n",
    "import numpy as np\n",
    "mtx1=np.matrix([1,3,5])   # no of rows=1 , no of columns=3 ; 1x3\n",
    "mtx2=np.matrix([[1,3],[5,7],[9,0]])  # no of rows=3 , no of columns=2 ; 3x2\n",
    "mul=np.dot(mtx1,mtx2)   # 1 x 3 = 3 x 2 ; no of rows of 1st matrix = no of columns of 2nd matrix\n",
    "print(mul)"
   ]
  },
  {
   "cell_type": "code",
   "execution_count": 44,
   "id": "52456ee5",
   "metadata": {},
   "outputs": [
    {
     "name": "stdout",
     "output_type": "stream",
     "text": [
      "Number is present!!\n"
     ]
    }
   ],
   "source": [
    "#  TASK 5\n",
    "\n",
    "import numpy as np\n",
    "arr=np.array([1,2,3,4,5])\n",
    "num=5\n",
    "for i in arr:\n",
    "    if i==num:\n",
    "        print(\"Number is present!!\")\n",
    "        break"
   ]
  },
  {
   "cell_type": "code",
   "execution_count": null,
   "id": "cec874ed",
   "metadata": {},
   "outputs": [],
   "source": [
    "\n",
    "\n"
   ]
  }
 ],
 "metadata": {
  "kernelspec": {
   "display_name": "Python 3 (ipykernel)",
   "language": "python",
   "name": "python3"
  },
  "language_info": {
   "codemirror_mode": {
    "name": "ipython",
    "version": 3
   },
   "file_extension": ".py",
   "mimetype": "text/x-python",
   "name": "python",
   "nbconvert_exporter": "python",
   "pygments_lexer": "ipython3",
   "version": "3.11.5"
  }
 },
 "nbformat": 4,
 "nbformat_minor": 5
}
