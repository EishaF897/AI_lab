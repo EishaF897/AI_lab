{
 "cells": [
  {
   "cell_type": "code",
   "execution_count": 1,
   "id": "ea490a9b",
   "metadata": {},
   "outputs": [
    {
     "name": "stdout",
     "output_type": "stream",
     "text": [
      "Sum is 17\n"
     ]
    }
   ],
   "source": [
    "# TASK 1\n",
    "\n",
    "list1=[7, 5, 3, 0, 2]\n",
    "sum=0\n",
    "for x in list1:\n",
    "    sum=sum+x\n",
    "print(\"Sum is\", sum)"
   ]
  },
  {
   "cell_type": "code",
   "execution_count": 3,
   "id": "0565eb6d",
   "metadata": {},
   "outputs": [
    {
     "name": "stdout",
     "output_type": "stream",
     "text": [
      "Is present!\n",
      "Is absent!\n"
     ]
    }
   ],
   "source": [
    "# TASK 2\n",
    "\n",
    "def function(rollNum):\n",
    "    if rollNum==41769:\n",
    "        print(\"Is present!\")\n",
    "    else:\n",
    "        print(\"Is absent!\")\n",
    "function(41769)\n",
    "function(12345)"
   ]
  },
  {
   "cell_type": "code",
   "execution_count": 4,
   "id": "1a71737d",
   "metadata": {},
   "outputs": [
    {
     "name": "stdout",
     "output_type": "stream",
     "text": [
      "41769 Eisha\n"
     ]
    }
   ],
   "source": [
    "# TASK 3\n",
    "class student:\n",
    "    def __init__(self, sap, name):\n",
    "        self.sap=sap\n",
    "        self.name=name\n",
    "s1=student(41769, \"Eisha\")\n",
    "print(s1.sap, s1.name)\n"
   ]
  },
  {
   "cell_type": "code",
   "execution_count": 5,
   "id": "b1435971",
   "metadata": {
    "scrolled": true
   },
   "outputs": [
    {
     "name": "stdout",
     "output_type": "stream",
     "text": [
      "41769 Eisha\n",
      "12345 Kanwal\n",
      "67890 Laiba\n"
     ]
    }
   ],
   "source": [
    "# TASK 4\n",
    "\n",
    "class student:\n",
    "    def __init__(self, sap, name):\n",
    "        self.sap=sap\n",
    "        self.name=name\n",
    "    def printInfo(self):\n",
    "        print(self.sap, self.name)\n",
    "        \n",
    "s1=student(41769, \"Eisha\")\n",
    "s1.printInfo()\n",
    "s2=student(12345, \"Kanwal\")\n",
    "s2.printInfo()\n",
    "s3=student(67890, \"Laiba\")\n",
    "s3.printInfo()"
   ]
  },
  {
   "cell_type": "code",
   "execution_count": 9,
   "id": "dbc4fd20",
   "metadata": {},
   "outputs": [
    {
     "ename": "TypeError",
     "evalue": "student() takes no arguments",
     "output_type": "error",
     "traceback": [
      "\u001b[1;31m---------------------------------------------------------------------------\u001b[0m",
      "\u001b[1;31mTypeError\u001b[0m                                 Traceback (most recent call last)",
      "Cell \u001b[1;32mIn[9], line 19\u001b[0m\n\u001b[0;32m     17\u001b[0m             average\u001b[38;5;241m=\u001b[39m\u001b[38;5;28msum\u001b[39m\u001b[38;5;241m/\u001b[39mn\n\u001b[0;32m     18\u001b[0m         \u001b[38;5;28;01mreturn\u001b[39;00m average\n\u001b[1;32m---> 19\u001b[0m s1\u001b[38;5;241m=\u001b[39mstudent(\u001b[38;5;124m\"\u001b[39m\u001b[38;5;124mEisha Fatima\u001b[39m\u001b[38;5;124m\"\u001b[39m, \u001b[38;5;241m21\u001b[39m, [\u001b[38;5;241m89\u001b[39m, \u001b[38;5;241m90\u001b[39m, \u001b[38;5;241m78\u001b[39m, \u001b[38;5;241m88\u001b[39m])\n\u001b[0;32m     20\u001b[0m avg\u001b[38;5;241m=\u001b[39ms1\u001b[38;5;241m.\u001b[39mavgGrade()\n\u001b[0;32m     21\u001b[0m \u001b[38;5;28mprint\u001b[39m(\u001b[38;5;124m\"\u001b[39m\u001b[38;5;124mAverage is: \u001b[39m\u001b[38;5;124m\"\u001b[39m, avg)\n",
      "\u001b[1;31mTypeError\u001b[0m: student() takes no arguments"
     ]
    }
   ],
   "source": [
    "# TASK 5\n",
    "\n",
    "class student:\n",
    "    def __init(self, name, age, grades):\n",
    "        self.name=name\n",
    "        self.age=age\n",
    "        self.grades=grades\n",
    "        \n",
    "    def avgGrade(self):\n",
    "        n=len(self.grades)\n",
    "        sum=0\n",
    "        if n>0:\n",
    "            for x in self.grade:\n",
    "                sum=sum+x\n",
    "            average=sum/n\n",
    "        return average\n",
    "s1=student(\"Eisha Fatima\", 21, [89, 90, 78, 88])\n",
    "avg=s1.avgGrade()\n",
    "print(\"Average is: \", avg)"
   ]
  },
  {
   "cell_type": "code",
   "execution_count": 7,
   "id": "933d6b1c",
   "metadata": {},
   "outputs": [
    {
     "ename": "TypeError",
     "evalue": "Student() takes no arguments",
     "output_type": "error",
     "traceback": [
      "\u001b[1;31m---------------------------------------------------------------------------\u001b[0m",
      "\u001b[1;31mTypeError\u001b[0m                                 Traceback (most recent call last)",
      "Cell \u001b[1;32mIn[7], line 12\u001b[0m\n\u001b[0;32m      9\u001b[0m             \u001b[38;5;28;01mreturn\u001b[39;00m \u001b[38;5;241m0\u001b[39m\n\u001b[0;32m     10\u001b[0m         \u001b[38;5;28;01mreturn\u001b[39;00m \u001b[38;5;28msum\u001b[39m(\u001b[38;5;28mself\u001b[39m\u001b[38;5;241m.\u001b[39mgrades) \u001b[38;5;241m/\u001b[39m \u001b[38;5;28mlen\u001b[39m(\u001b[38;5;28mself\u001b[39m\u001b[38;5;241m.\u001b[39mgrades)\n\u001b[1;32m---> 12\u001b[0m s1 \u001b[38;5;241m=\u001b[39m Student(\u001b[38;5;124m\"\u001b[39m\u001b[38;5;124mMaryam\u001b[39m\u001b[38;5;124m\"\u001b[39m, \u001b[38;5;241m22\u001b[39m, [\u001b[38;5;241m85\u001b[39m, \u001b[38;5;241m90\u001b[39m, \u001b[38;5;241m78\u001b[39m, \u001b[38;5;241m92\u001b[39m])\n\u001b[0;32m     13\u001b[0m s2 \u001b[38;5;241m=\u001b[39m Student(\u001b[38;5;124m\"\u001b[39m\u001b[38;5;124mShiza\u001b[39m\u001b[38;5;124m\"\u001b[39m, \u001b[38;5;241m20\u001b[39m, [\u001b[38;5;241m88\u001b[39m, \u001b[38;5;241m76\u001b[39m, \u001b[38;5;241m95\u001b[39m])\n\u001b[0;32m     14\u001b[0m s3 \u001b[38;5;241m=\u001b[39m Student(\u001b[38;5;124m\"\u001b[39m\u001b[38;5;124mAliza\u001b[39m\u001b[38;5;124m\"\u001b[39m, \u001b[38;5;241m24\u001b[39m, [\u001b[38;5;241m70\u001b[39m, \u001b[38;5;241m80\u001b[39m, \u001b[38;5;241m90\u001b[39m, \u001b[38;5;241m100\u001b[39m])\n",
      "\u001b[1;31mTypeError\u001b[0m: Student() takes no arguments"
     ]
    }
   ],
   "source": []
  },
  {
   "cell_type": "code",
   "execution_count": null,
   "id": "0469e617",
   "metadata": {},
   "outputs": [],
   "source": []
  }
 ],
 "metadata": {
  "kernelspec": {
   "display_name": "Python 3 (ipykernel)",
   "language": "python",
   "name": "python3"
  },
  "language_info": {
   "codemirror_mode": {
    "name": "ipython",
    "version": 3
   },
   "file_extension": ".py",
   "mimetype": "text/x-python",
   "name": "python",
   "nbconvert_exporter": "python",
   "pygments_lexer": "ipython3",
   "version": "3.11.5"
  }
 },
 "nbformat": 4,
 "nbformat_minor": 5
}
